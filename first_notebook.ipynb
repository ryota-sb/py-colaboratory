{
  "nbformat": 4,
  "nbformat_minor": 0,
  "metadata": {
    "colab": {
      "provenance": [],
      "authorship_tag": "ABX9TyOLn1eZ5dRkR7jDFm9wmqSX",
      "include_colab_link": true
    },
    "kernelspec": {
      "name": "python3",
      "display_name": "Python 3"
    },
    "language_info": {
      "name": "python"
    }
  },
  "cells": [
    {
      "cell_type": "markdown",
      "metadata": {
        "id": "view-in-github",
        "colab_type": "text"
      },
      "source": [
        "<a href=\"https://colab.research.google.com/github/ryota-sb/py-colaboratory/blob/main/first_notebook.ipynb\" target=\"_parent\"><img src=\"https://colab.research.google.com/assets/colab-badge.svg\" alt=\"Open In Colab\"/></a>"
      ]
    },
    {
      "cell_type": "code",
      "source": [
        "!apt-get update -qq && apt-get install -qq libfluidsynth1 fluid-soundfont-gm build-essential libasound2-dev libjack-dev\n",
        "!pip install -qU pyfluidsynth pretty_midi\n",
        "!pip install -qU magenta"
      ],
      "metadata": {
        "id": "kb6LWjukzlfj"
      },
      "execution_count": null,
      "outputs": []
    },
    {
      "cell_type": "code",
      "source": [
        "import magenta\n",
        "import note_seq\n",
        "from note_seq.protobuf import music_pb2\n",
        "\n",
        "kira2 = music_pb2.NoteSequence()\n",
        "\n",
        "pg = 4\n",
        "is_drum = False\n",
        "\n",
        "kira2.notes.add(pitch=70, start_time=0.0, end_time=0.4, velocity=80, program=pg, is_drum=is_drum)\n",
        "kira2.notes.add(pitch=70, start_time=0.4, end_time=0.8, velocity=80, program=pg, is_drum=is_drum)\n",
        "kira2.notes.add(pitch=77, start_time=0.8, end_time=1.2, velocity=80, program=pg, is_drum=is_drum)\n",
        "kira2.notes.add(pitch=77, start_time=1.2, end_time=1.6, velocity=80, program=pg, is_drum=is_drum)\n",
        "kira2.notes.add(pitch=79, start_time=1.6, end_time=2.0, velocity=80, program=pg, is_drum=is_drum)\n",
        "kira2.notes.add(pitch=79, start_time=2.0, end_time=2.4, velocity=80, program=pg, is_drum=is_drum)\n",
        "kira2.notes.add(pitch=77, start_time=2.4, end_time=3.2, velocity=80, program=pg, is_drum=is_drum)\n",
        "kira2.notes.add(pitch=75, start_time=3.2, end_time=3.6, velocity=80, program=pg, is_drum=is_drum)\n",
        "kira2.notes.add(pitch=75, start_time=3.6, end_time=4.0, velocity=80, program=pg, is_drum=is_drum)\n",
        "kira2.notes.add(pitch=74, start_time=4.0, end_time=4.4, velocity=80, program=pg, is_drum=is_drum)\n",
        "kira2.notes.add(pitch=74, start_time=4.4, end_time=4.8, velocity=80, program=pg, is_drum=is_drum)\n",
        "kira2.notes.add(pitch=72, start_time=4.8, end_time=5.2, velocity=80, program=pg, is_drum=is_drum)\n",
        "kira2.notes.add(pitch=72, start_time=5.2, end_time=5.6, velocity=80, program=pg, is_drum=is_drum)\n",
        "kira2.notes.add(pitch=70, start_time=5.6, end_time=6.4, velocity=80, program=pg, is_drum=is_drum)\n",
        "\n",
        "kira2.total_time =6.4\n",
        "kira2.tempos.add(qpm=150)\n",
        "\n",
        "note_seq.plot_sequence(kira2)\n",
        "note_seq.play_sequence(kira2, synth=note_seq.fluidsynth)"
      ],
      "metadata": {
        "id": "2ZzSQfKk4If6"
      },
      "execution_count": null,
      "outputs": []
    },
    {
      "cell_type": "code",
      "source": [
        "from google.colab import files\n",
        "\n",
        "note_seq.sequence_proto_to_midi_file(kira2, \"kira2.mid\") # midiデータに変換保存\n",
        "files.download(\"kira2.mid\") # ファイルダウンロード"
      ],
      "metadata": {
        "id": "zLBjXzUp6DW3"
      },
      "execution_count": null,
      "outputs": []
    },
    {
      "cell_type": "markdown",
      "source": [
        "# 機械学習のモデルについて\n",
        "モデルとは、定量的なルールを数式で表したもの  \n",
        "モデルは、多数のパラメータ、ハイパーパラメータを値や設定として持つ\n",
        "\n",
        "# Melody RNN\n",
        "再帰型ニューラルネットワーク（RNN）の一種、LSTMを用いたメロディ生成する\n",
        "\n",
        "# Music VAE\n",
        "VAE（変換オートエンコーダ）を用いた音楽生成する\n",
        "\n",
        "# GANSynth\n",
        "GAN（敵対的生成ネットワーク）を用いてオーディオを合成する"
      ],
      "metadata": {
        "id": "9pi8vhhw-e90"
      }
    },
    {
      "cell_type": "code",
      "source": [
        "from magenta.models.melody_rnn import melody_rnn_sequence_generator\n",
        "from magenta.models.shared import sequence_generator_bundle\n",
        "\n",
        "note_seq.notebook_utils.download_bundle(\"basic_rnn.mag\", \"/models/\")\n",
        "bundle = sequence_generator_bundle.read_bundle_file(\"/models/basic_rnn.mag\")\n",
        "generator_map = melody_rnn_sequence_generator.get_generator_map()\n",
        "melody_rnn = generator_map[\"basic_rnn\"](checkpoint=None, bundle=bundle)\n",
        "melody_rnn.initialize()"
      ],
      "metadata": {
        "id": "k8oDk3x2JwoO"
      },
      "execution_count": null,
      "outputs": []
    },
    {
      "cell_type": "code",
      "source": [
        "from note_seq.protobuf import generator_pb2\n",
        "\n",
        "base_sequence = kira2\n",
        "total_time = 36\n",
        "temperature = 1.2\n",
        "\n",
        "base_end_time = max(note.end_time for note in base_sequence.notes)\n",
        "\n",
        "generator_options = generator_pb2.GeneratorOptions()\n",
        "generator_options.args[\"temperature\"].float_value = temperature\n",
        "generator_options.generate_sections.add(\n",
        "    start_time=base_end_time,\n",
        "    end_time=total_time)\n",
        "\n",
        "gen_seq = melody_rnn.generate(base_sequence, generator_options)\n",
        "\n",
        "note_seq.plot_sequence(gen_seq)\n",
        "note_seq.play_sequence(gen_seq, synth=note_seq.fluidsynth)"
      ],
      "metadata": {
        "id": "XALmjsabLDAI"
      },
      "execution_count": null,
      "outputs": []
    },
    {
      "cell_type": "code",
      "source": [
        "!gsutil -q -m cp -R gs://download.magenta.tensorflow.org/models/music_vae/colab2/checkpoints/mel_2bar_big.ckpt.* /content/"
      ],
      "metadata": {
        "id": "Jr9hNk54OqO0"
      },
      "execution_count": 18,
      "outputs": []
    },
    {
      "cell_type": "code",
      "source": [
        "from magenta.models.music_vae import configs\n",
        "from magenta.models.music_vae.trained_model import TrainedModel\n",
        "\n",
        "music_vae = TrainedModel(\n",
        "    configs.CONFIG_MAP[\"cat-mel_2bar_big\"],\n",
        "    batch_size=4,\n",
        "    checkpoint_dir_or_path=\"/content/mel_2bar_big.ckpt\")"
      ],
      "metadata": {
        "id": "CzupVGbUNJXV"
      },
      "execution_count": null,
      "outputs": []
    },
    {
      "cell_type": "code",
      "source": [
        "import note_seq\n",
        "\n",
        "generated = music_vae.sample(n=5,\n",
        "                             length=128,\n",
        "                             temperature=1.0)\n",
        "\n",
        "for ns in generated:\n",
        "  note_seq.plot_sequence(ns)\n",
        "  note_seq.play_sequence(ns, synth=note_seq.fluidsynth)"
      ],
      "metadata": {
        "id": "9zngN_HyPLwp"
      },
      "execution_count": null,
      "outputs": []
    },
    {
      "cell_type": "code",
      "source": [
        "# 最初のNoteSequence\n",
        "import magenta\n",
        "import note_seq\n",
        "from note_seq.protobuf import music_pb2\n",
        "\n",
        "kira2_start = music_pb2.NoteSequence()\n",
        "\n",
        "kira2_start.notes.add(pitch=60, start_time=0.0, end_time=0.4, velocity=80)\n",
        "kira2_start.notes.add(pitch=60, start_time=0.4, end_time=0.8, velocity=80)\n",
        "kira2_start.notes.add(pitch=67, start_time=0.8, end_time=1.2, velocity=80)\n",
        "kira2_start.notes.add(pitch=67, start_time=1.2, end_time=1.6, velocity=80)\n",
        "kira2_start.notes.add(pitch=69, start_time=1.6, end_time=2.0, velocity=80)\n",
        "kira2_start.notes.add(pitch=69, start_time=2.0, end_time=2.4, velocity=80)\n",
        "kira2_start.notes.add(pitch=67, start_time=2.4, end_time=3.2, velocity=80)\n",
        "kira2_start.notes.add(pitch=65, start_time=3.2, end_time=3.6, velocity=80)\n",
        "kira2_start.notes.add(pitch=65, start_time=3.6, end_time=4.0, velocity=80)\n",
        "kira2_start.notes.add(pitch=64, start_time=4.0, end_time=4.4, velocity=80)\n",
        "kira2_start.notes.add(pitch=64, start_time=4.4, end_time=4.8, velocity=80)\n",
        "kira2_start.notes.add(pitch=62, start_time=4.8, end_time=5.2, velocity=80)\n",
        "kira2_start.notes.add(pitch=62, start_time=5.2, end_time=5.6, velocity=80)\n",
        "kira2_start.notes.add(pitch=60, start_time=5.6, end_time=6.4, velocity=80)\n",
        "\n",
        "kira2_start.total_time =6.4\n",
        "kira2_start.tempos.add(qpm=75)\n",
        "\n",
        "note_seq.plot_sequence(kira2_start)\n",
        "note_seq.play_sequence(kira2_start, synth=note_seq.fluidsynth)\n",
        "\n",
        "# 最後のNoteSequence\n",
        "kira2_end = music_pb2.NoteSequence()\n",
        "\n",
        "kira2_end.notes.add(pitch=70, start_time=0.0, end_time=0.4, velocity=80)\n",
        "kira2_end.notes.add(pitch=72, start_time=0.4, end_time=0.8, velocity=80)\n",
        "kira2_end.notes.add(pitch=74, start_time=0.8, end_time=1.2, velocity=80)\n",
        "kira2_end.notes.add(pitch=77, start_time=1.2, end_time=1.6, velocity=80)\n",
        "kira2_end.notes.add(pitch=79, start_time=1.6, end_time=2.0, velocity=80)\n",
        "kira2_end.notes.add(pitch=74, start_time=2.0, end_time=2.4, velocity=80)\n",
        "kira2_end.notes.add(pitch=70, start_time=2.4, end_time=3.2, velocity=80)\n",
        "kira2_end.notes.add(pitch=72, start_time=3.2, end_time=3.6, velocity=80)\n",
        "kira2_end.notes.add(pitch=74, start_time=3.6, end_time=4.0, velocity=80)\n",
        "kira2_end.notes.add(pitch=77, start_time=4.0, end_time=4.4, velocity=80)\n",
        "kira2_end.notes.add(pitch=79, start_time=4.4, end_time=4.8, velocity=80)\n",
        "kira2_end.notes.add(pitch=74, start_time=4.8, end_time=5.2, velocity=80)\n",
        "kira2_end.notes.add(pitch=72, start_time=5.2, end_time=5.6, velocity=80)\n",
        "kira2_end.notes.add(pitch=70, start_time=5.6, end_time=6.4, velocity=80)\n",
        "\n",
        "kira2_end.total_time =6.4\n",
        "kira2_end.tempos.add(qpm=75)\n",
        "\n",
        "note_seq.plot_sequence(kira2_end)\n",
        "note_seq.play_sequence(kira2_end, synth=note_seq.fluidsynth)"
      ],
      "metadata": {
        "id": "HSqfEgQnTwBU"
      },
      "execution_count": null,
      "outputs": []
    },
    {
      "cell_type": "code",
      "source": [
        "n_seq = 8 # NoteSequenceの数\n",
        "\n",
        "gen_seq = music_vae.interpolate(\n",
        "    kira2_start,\n",
        "    kira2_end,\n",
        "    num_steps=n_seq,\n",
        "    length=32)\n",
        "\n",
        "interp_seq = note_seq.sequences_lib.concatenate_sequences(gen_seq)\n",
        "\n",
        "note_seq.plot_sequence(interp_seq)\n",
        "note_seq.play_sequence(interp_seq, synth=note_seq.fluidsynth)"
      ],
      "metadata": {
        "id": "ptKCXgAZbRXo"
      },
      "execution_count": null,
      "outputs": []
    }
  ]
}