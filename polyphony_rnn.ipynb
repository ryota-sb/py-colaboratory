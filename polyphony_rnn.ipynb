{
  "nbformat": 4,
  "nbformat_minor": 0,
  "metadata": {
    "colab": {
      "provenance": [],
      "authorship_tag": "ABX9TyOQ2qNKZzzenbItY4SEza/j"
    },
    "kernelspec": {
      "name": "python3",
      "display_name": "Python 3"
    },
    "language_info": {
      "name": "python"
    }
  },
  "cells": [
    {
      "cell_type": "markdown",
      "source": [
        "# RNN\n",
        "\n",
        "### 時系列データ\n",
        "時間方向に並んだデータのこと\n",
        "\n",
        "### RNNで扱われる時系列データ一覧\n",
        "\n",
        "*   文書\n",
        "*   音声データ\n",
        "*   動画\n",
        "*   株価\n",
        "*   産業用機器の状態  \n",
        "etc...\n",
        "\n",
        "### 再帰型ニューラルネットワーク (Reccurent Neural Network)\n",
        "入力と正解が時系列データになる  \n",
        "中間層が再帰の構造を持ち、前後の時刻の中間層とつながる\n",
        "\n",
        "### LSTM（Long Short Term Memory）\n",
        "RNNの一種  \n",
        "記憶セルの導入による、長期記憶保持  \n",
        "ゲートと呼ばれる情報の流れを調整する仕組み  \n",
        "ゲートにより、記憶セルの内容を忘れるか忘れないか判断しながら、必要な情報だけを次の時刻に引き継ぐことができる  \n",
        "記憶セルは貯水池、各ゲートは、水門のようなイメージ\n",
        "\n",
        "### MagentaのRNN音楽生成モデル\n",
        "\n",
        "*   Melody RNN（単音のシンプルなメロディー作曲）\n",
        "*   Drums RNN（ドラム演奏を作曲）\n",
        "*   Improv RNN（コード進行に沿って、アドリブでメロディーの作曲）\n",
        "*   Polyphony RNN（和音を繋いで進行する曲を生成）\n",
        "*   Pianoroll RNN-NADE（ピアノロールを使用して現代音楽風の曲を生成）\n",
        "*   Performance RNN（音の強弱のタイミングなどの微妙な表現まで変化する高度な曲の生成）\n",
        "\n",
        "\n",
        "\n",
        "\n"
      ],
      "metadata": {
        "id": "j4gHZbB2s6Jz"
      }
    },
    {
      "cell_type": "code",
      "execution_count": null,
      "metadata": {
        "id": "lU_gXy4Rsvdq"
      },
      "outputs": [],
      "source": [
        "!apt-get update -qq && apt-get install -qq libfluidsynth1 fluid-soundfont-gm build-essential libasound2-dev libjack-dev\n",
        "!pip install -qU pyfluidsynth pretty_midi\n",
        "!pip install -qU magenta"
      ]
    },
    {
      "cell_type": "code",
      "source": [],
      "metadata": {
        "id": "DU74syKfDAkb"
      },
      "execution_count": null,
      "outputs": []
    },
    {
      "cell_type": "code",
      "source": [
        "import magenta\n",
        "import note_seq\n",
        "from note_seq.protobuf import music_pb2\n",
        "\n",
        "seed = music_pb2.NoteSequence()\n",
        "\n",
        "seed.notes.add(pitch=80, start_time=0.0, end_time=0.4, velocity=80)\n",
        "seed.notes.add(pitch=80, start_time=0.4, end_time=0.8, velocity=80)\n",
        "seed.notes.add(pitch=87, start_time=0.8, end_time=1.2, velocity=80)\n",
        "seed.notes.add(pitch=87, start_time=1.2, end_time=1.6, velocity=80)\n",
        "seed.notes.add(pitch=89, start_time=1.6, end_time=2.0, velocity=80)\n",
        "seed.notes.add(pitch=89, start_time=2.0, end_time=2.4, velocity=80)\n",
        "seed.notes.add(pitch=87, start_time=2.4, end_time=3.2, velocity=80)\n",
        "\n",
        "seed.total_time = 3.2\n",
        "seed.tempos.add(qpm=75)\n",
        "\n",
        "note_seq.plot_sequence(seed)\n",
        "note_seq.play_sequence(seed, synth=note_seq.fluidsynth)"
      ],
      "metadata": {
        "id": "G5Ghhdjd9yBp"
      },
      "execution_count": null,
      "outputs": []
    },
    {
      "cell_type": "code",
      "source": [
        "from magenta.models.polyphony_rnn import polyphony_sequence_generator\n",
        "from magenta.models.shared import sequence_generator_bundle\n",
        "\n",
        "# model initialize\n",
        "note_seq.notebook_utils.download_bundle(\"polyphony_rnn.mag\", \"/models/\") # bundle(.magファイル)をダウンロード\n",
        "bundle = sequence_generator_bundle.read_bundle_file(\"/models/polyphony_rnn.mag\")\n",
        "generator_map = polyphony_sequence_generator.get_generator_map()\n",
        "polyphony_rnn = generator_map[\"polyphony\"](checkpoint=None, bundle=bundle)\n",
        "polyphony_rnn.initialize()"
      ],
      "metadata": {
        "id": "l6t0L6s1_QCw"
      },
      "execution_count": null,
      "outputs": []
    },
    {
      "cell_type": "code",
      "source": [
        "from note_seq.protobuf import generator_pb2\n",
        "\n",
        "total_time = 180\n",
        "temperature = 1.0\n",
        "\n",
        "base_end_time = max(note.end_time for note in seed.notes)\n",
        "\n",
        "generator_options = generator_pb2.GeneratorOptions()\n",
        "generator_options.args[\"temperature\"].float_value = temperature\n",
        "generator_options.generate_sections.add(\n",
        "    start_time=base_end_time,\n",
        "    end_time=total_time)\n",
        "\n",
        "gen_seq = polyphony_rnn.generate(seed, generator_options)\n",
        "note_seq.plot_sequence(gen_seq)\n",
        "note_seq.play_sequence(gen_seq, synth=note_seq.fluidsynth)"
      ],
      "metadata": {
        "id": "rrJLOEsAA36c"
      },
      "execution_count": null,
      "outputs": []
    }
  ]
}